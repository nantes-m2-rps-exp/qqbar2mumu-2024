{
 "cells": [
  {
   "cell_type": "markdown",
   "id": "43d34ee3-7e50-4c9f-b63b-2e6a3041e3c8",
   "metadata": {},
   "source": [
    "# Traiter plus de données"
   ]
  },
  {
   "cell_type": "markdown",
   "id": "bc2ce828-3750-4ac4-97c5-8275beab247d",
   "metadata": {},
   "source": [
    "Le [notebook d'example](./01-muon-eta-distribution.ipynb) n'utilisait que les 10000 premiers événements d'un fichier de données. Vous verrez qu'il ne s'agit que d'une petite fraction des données. Pour mettre au point vos différents code une telle fraction sera sans doute suffisante (et permet de faire des \"explorations\" rapides des données), mais tôt ou tard il vous faudra passer sur plus de données. \n",
    "\n",
    "Pour ce faire il faut être capable de boucler sur les données. Etre capable de le faire rapidement est un bonus appréciable."
   ]
  },
  {
   "cell_type": "markdown",
   "id": "78ae118e-b80c-409c-bd41-f59035b340ed",
   "metadata": {},
   "source": [
    "## Traitement par lots"
   ]
  },
  {
   "cell_type": "markdown",
   "id": "419ddfcb-1180-40f5-a997-342e5649bbe7",
   "metadata": {},
   "source": [
    "Pour \"boucler\" on travaille \"par lot\" grâce à la fonction `iterate` de `uproot`. \n",
    "\n",
    "> \"boucler\" est entre guillements car vous verrez que l'analyse en python est efficace si l'on utilise ce que l'on appelle le \"array programming\", c'est-à-dire qu'il faut prendre l'habitude de travailler sur des tableaux plutôt que sur des valeurs uniques (ce que l'on appelle également _vectoriser_).\n",
    "\n",
    "Comme dans le notebook d'example, nous analysons un fichier de données récupéré sur Cernbox "
   ]
  },
  {
   "cell_type": "code",
   "execution_count": null,
   "id": "ac4d1621-eeee-4668-9c91-7f764b5f70a2",
   "metadata": {},
   "outputs": [],
   "source": [
    "import uproot\n",
    "import awkward as ak\n",
    "import numpy as np\n",
    "import math\n",
    "import hist"
   ]
  },
  {
   "cell_type": "code",
   "execution_count": null,
   "id": "9b02dd6b-f7fb-4883-87b3-aeb5a94eb8a0",
   "metadata": {},
   "outputs": [],
   "source": [
    "run=290297\n",
    "file = uproot.open(f\"/pbs/throng/training/nantes-m2-rps-exp/data/run{run}.data.root\")\n",
    "events = file[\"eventsTree\"]"
   ]
  },
  {
   "cell_type": "markdown",
   "id": "fed3483a-fdd9-4bbf-87c9-1469cc1b01e4",
   "metadata": {},
   "source": [
    "Au contraire du notebook d'exemple, nous allons cette fois-ci analyser _toutes_ les données de ce fichier, mais par lot (de 10000 événements = `step_size`) grâce à la fonction `iterate` de `uproot` :"
   ]
  },
  {
   "cell_type": "code",
   "execution_count": null,
   "id": "bb53b6ff-b5b9-4312-85f6-187d1a34bd59",
   "metadata": {},
   "outputs": [],
   "source": [
    "for m in events.iterate([\"nMuons\",\"Muon_Px\",\"Muon_Py\",\"Muon_Pz\",\"Muon_Charge\"],how=\"zip\",step_size=10000):\n",
    "    print(len(m),len(m[ak.where(m.nMuons>1)]))"
   ]
  },
  {
   "cell_type": "markdown",
   "id": "82da3495-ecd3-4f6a-8f09-c45955834789",
   "metadata": {},
   "source": [
    "On définit comme précédemment quelques fonctions pour calculer la pseudo-rapidité :"
   ]
  },
  {
   "cell_type": "code",
   "execution_count": null,
   "id": "c47a7aec-c67d-419d-b040-1fc553140418",
   "metadata": {},
   "outputs": [],
   "source": [
    "def mag(px:float,py:float,pz:float):\n",
    "    \"\"\"Returns the norm of the 3-vector (px,py,pz).\"\"\"\n",
    "    return math.sqrt(px*px+py*py+pz*pz)\n",
    "\n",
    "def costheta(px:float,py:float,pz:float):\n",
    "    \"\"\"Returns the cos(theta) of the 3 vector (px,py,pz).\"\"\"\n",
    "    ptot = mag(px,py,pz);\n",
    "    return 1.0 if ptot == 0.0 else pz/ptot\n",
    "\n",
    "def eta(px:float,py:float,pz:float):\n",
    "    \"\"\"Returns the pseudo-rapidity of the 3 vector (px,py,pz).\"\"\"\n",
    "    ct = costheta(px,py,pz)\n",
    "    if ct*ct < 1:\n",
    "        return -0.5* math.log( (1.0-ct)/(1.0+ct) )\n",
    "    if pz == 0: \n",
    "        return 0\n",
    "    if pz>0: \n",
    "        return 10E10\n",
    "    else:\n",
    "        return -10E20"
   ]
  },
  {
   "cell_type": "markdown",
   "id": "2b7f4565-94e8-488b-87e7-11d4ba1b8ece",
   "metadata": {},
   "source": [
    "Au lieu de créer un tableau unique de grande taille avec toutes les valeurs de $\\eta$ (comme on l'a fait ci-dessus) _puis_ de faire un histogramme de ces valeurs, on peut créer _d'abord_ un histogramme puis le remplir au fur et à mesure du traitement par lot."
   ]
  },
  {
   "cell_type": "code",
   "execution_count": null,
   "id": "7fd3dc98-b033-4935-819f-f4b7b07b69b1",
   "metadata": {},
   "outputs": [],
   "source": [
    "import hist\n",
    "hEta = hist.Hist(hist.axis.Regular(bins=100,start=-6,stop=0,name=r'$\\eta$'))"
   ]
  },
  {
   "cell_type": "code",
   "execution_count": null,
   "id": "f6515f9b-2f70-4c3a-a5bf-cb5056718216",
   "metadata": {},
   "outputs": [],
   "source": [
    "nofTracks=0 \n",
    "nofEvents=0  \n",
    "for m in events.iterate([\"nMuons\",\"Muon_Px\",\"Muon_Py\",\"Muon_Pz\",\"Muon_Charge\"],how=\"zip\",step_size=10000):\n",
    "    for event in m[m.nMuons>0]:\n",
    "        nofEvents+=1\n",
    "        tracks = event[\"Muon\"].to_list()\n",
    "        for t in tracks:\n",
    "            nofTracks+=1\n",
    "            hEta.fill(eta(t[\"Px\"],t[\"Py\"],t[\"Pz\"]))\n",
    "print(nofEvents,nofTracks)"
   ]
  },
  {
   "cell_type": "markdown",
   "id": "80358759-5eb6-41fe-82e8-374400b23c6a",
   "metadata": {},
   "source": [
    "Le module `hist` offre une fonction `plot` qui permet de visualiser rapidement l'histogramme : "
   ]
  },
  {
   "cell_type": "code",
   "execution_count": null,
   "id": "a6931c39-df2d-4a1a-9a2d-d1757844d879",
   "metadata": {},
   "outputs": [],
   "source": [
    "hEta.plot();"
   ]
  },
  {
   "cell_type": "markdown",
   "id": "8fe479fa-7407-42a3-a4db-980def480565",
   "metadata": {},
   "source": [
    "Et en utilisant `matplotlib` on peut configurer ce plot : "
   ]
  },
  {
   "cell_type": "code",
   "execution_count": null,
   "id": "59c9bba7-df34-4e78-b18f-85afa89270c3",
   "metadata": {},
   "outputs": [],
   "source": [
    "import matplotlib.pyplot as plt\n",
    "hEta.plot()\n",
    "plt.yscale(\"log\")\n",
    "plt.title(f\"Pseudo-rapidity of tracks - RUN {run}\");"
   ]
  },
  {
   "cell_type": "markdown",
   "id": "8c776c13-24f9-4894-aab4-44ea124d7f2d",
   "metadata": {},
   "source": [
    "## Vectorisation"
   ]
  },
  {
   "cell_type": "markdown",
   "id": "bd758288-c37f-4a98-9f07-f2536edcc8e4",
   "metadata": {},
   "source": [
    "> Cette partie n'est pas indispensable au bon déroulement du projet mais permet d'accéler les calculs et de commencer à vous familiariser avec une façon d'organiser les calculs habituelle dans le monde \"data science / deep learning\"."
   ]
  },
  {
   "cell_type": "markdown",
   "id": "5f4a5d12-7353-4397-ba73-e6443642ecbf",
   "metadata": {},
   "source": [
    "Si l'on reprend l'iteration sur les données on note qu'elle n'est pas particulièrement rapide :  "
   ]
  },
  {
   "cell_type": "code",
   "execution_count": null,
   "id": "f25d0444-f986-441d-a08d-f7272df5ec14",
   "metadata": {},
   "outputs": [],
   "source": [
    "%%time\n",
    "for m in events.iterate([\"nMuons\",\"Muon_Px\",\"Muon_Py\",\"Muon_Pz\",\"Muon_Charge\"],how=\"zip\",step_size=10000):\n",
    "    for event in m[m.nMuons>0]:\n",
    "        tracks = event[\"Muon\"].to_list()\n",
    "        for t in tracks:\n",
    "            e = eta(t[\"Px\"],t[\"Py\"],t[\"Pz\"])"
   ]
  },
  {
   "cell_type": "markdown",
   "id": "e88e714e-005b-4c34-a93e-b5c836d10203",
   "metadata": {},
   "source": [
    "Ceci est dû au fait que l'on calcule la pseudo-rapidité trace par trace (dans la fonction `Eta`) au lieu de faire des calculs sur des tableaux entiers. Essayons d'améliorer cela en commençant par le calcul de la norme de l'impulsion."
   ]
  },
  {
   "cell_type": "code",
   "execution_count": null,
   "id": "6d028f01-3bd3-4934-86da-e65d4be79b4e",
   "metadata": {},
   "outputs": [],
   "source": [
    "%%time\n",
    "for m in events.iterate([\"nMuons\",\"Muon_Px\",\"Muon_Py\",\"Muon_Pz\",\"Muon_Charge\"],how=\"zip\",step_size=10000):\n",
    "    for event in m[m.nMuons>0]:\n",
    "        tracks = event[\"Muon\"].to_list()\n",
    "        for t in tracks:\n",
    "            e = mag(t[\"Px\"],t[\"Py\"],t[\"Pz\"])"
   ]
  },
  {
   "cell_type": "markdown",
   "id": "41342313-66cc-40a5-b8cf-9c73bf0b9e0b",
   "metadata": {},
   "source": [
    "On va remplacer le calcul sur un groupe de trois scalaires (px,py,pz) par un calcul sur trois vecteurs (px,py,pz) à l'aide de fonctions du module `numpy` (préfixées par `np.`) :"
   ]
  },
  {
   "cell_type": "code",
   "execution_count": null,
   "id": "5b31125e-1cf5-4e74-986c-fd402d68b095",
   "metadata": {},
   "outputs": [],
   "source": [
    "def vmag(px,py,pz):\n",
    "    \"\"\"Returns an array of the norms of the 3-vectors (px,py,pz).\"\"\"\n",
    "    return np.sqrt(px*px+py*py+pz*pz)"
   ]
  },
  {
   "cell_type": "code",
   "execution_count": null,
   "id": "6afede62-02f2-4cc7-9d8d-12d4857883a7",
   "metadata": {},
   "outputs": [],
   "source": [
    "%%time\n",
    "for m in events.iterate([\"nMuons\",\"Muon_Px\",\"Muon_Py\",\"Muon_Pz\",\"Muon_Charge\"],step_size=10000):\n",
    "    atLeastOneMuon = m.nMuons>0\n",
    "    t = m[atLeastOneMuon]\n",
    "    mag = vmag(t[\"Muon_Px\"],t[\"Muon_Py\"],t[\"Muon_Pz\"])"
   ]
  },
  {
   "cell_type": "markdown",
   "id": "c46f1a29-dbae-487b-9d52-0caf84fd7bfc",
   "metadata": {},
   "source": [
    "Vous noterez que c'est bien plus rapide que la boucle initiale. Etendons cela au calcul de $\\eta$ :"
   ]
  },
  {
   "cell_type": "code",
   "execution_count": null,
   "id": "1d9ce2f1-c43a-4fba-85b6-10a1c21ab70a",
   "metadata": {},
   "outputs": [],
   "source": [
    "def vcostheta(px,py,pz):\n",
    "    \"\"\"Returns an array of cos(theta) for the 3 vectors (px,py,pz).\"\"\"\n",
    "    ptot = vmag(px,py,pz);\n",
    "    return np.divide(pz,ptot)\n",
    "\n",
    "def veta(px:float,py:float,pz:float):\n",
    "    \"\"\"Returns the pseudo-rapidity of the 3 vector (px,py,pz).\"\"\"\n",
    "    ct = vcostheta(px,py,pz)\n",
    "    return -0.5* np.log( (1.0-ct)/(1.0+ct) )"
   ]
  },
  {
   "cell_type": "code",
   "execution_count": null,
   "id": "55341e43-1056-4458-801e-dbc78ca8bda7",
   "metadata": {},
   "outputs": [],
   "source": [
    "vhEta = hist.Hist(hist.axis.Regular(bins=100,start=-6,stop=0,name=r'$\\eta$'))"
   ]
  },
  {
   "cell_type": "code",
   "execution_count": null,
   "id": "d298b204-7ea2-4b31-815a-044be1110d34",
   "metadata": {},
   "outputs": [],
   "source": [
    "%%time\n",
    "for m in events.iterate([\"nMuons\",\"Muon_Px\",\"Muon_Py\",\"Muon_Pz\",\"Muon_Charge\"],step_size=10000):\n",
    "    atLeastOneMuon = m.nMuons>0\n",
    "    t = m[atLeastOneMuon]\n",
    "    eta = veta(t[\"Muon_Px\"],t[\"Muon_Py\"],t[\"Muon_Pz\"])\n",
    "    vhEta.fill(ak.flatten(eta))"
   ]
  },
  {
   "cell_type": "code",
   "execution_count": null,
   "id": "74630d7c-5816-4a04-a967-c45799aa3317",
   "metadata": {},
   "outputs": [],
   "source": [
    "vhEta.plot();"
   ]
  },
  {
   "cell_type": "code",
   "execution_count": null,
   "id": "4ac172bd-2283-4423-b5f5-3278d521b9e6",
   "metadata": {},
   "outputs": [],
   "source": [
    "a = 1"
   ]
  }
 ],
 "metadata": {
  "kernelspec": {
   "display_name": "M2 RPS EXP (2024)",
   "language": "python",
   "name": "qqbar2mumu-2024"
  },
  "language_info": {
   "codemirror_mode": {
    "name": "ipython",
    "version": 3
   },
   "file_extension": ".py",
   "mimetype": "text/x-python",
   "name": "python",
   "nbconvert_exporter": "python",
   "pygments_lexer": "ipython3",
   "version": "3.12.7"
  }
 },
 "nbformat": 4,
 "nbformat_minor": 5
}

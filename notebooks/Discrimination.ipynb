{
 "cells": [
  {
   "cell_type": "code",
   "execution_count": 1,
   "id": "4e99a284-10f3-4e0f-9aa6-4a93635de0fa",
   "metadata": {},
   "outputs": [
    {
     "name": "stdout",
     "output_type": "stream",
     "text": [
      "uproot version 5.5.1\n",
      "awkward version 2.7.2\n",
      "numpy version 2.0.2\n",
      "matplotlib version 3.9.0\n",
      "hist version 2.8.0\n",
      "vector version 1.5.2\n",
      "-rwxrwxr-x 1 2830 training 414M Aug 30  2023 /pbs/throng/training/nantes-m2-rps-exp/data/run291263.data.root\n",
      "-rwxrwxr-x 1 2830 training  26M Aug 30  2023 /pbs/throng/training/nantes-m2-rps-exp/data/run291263.mc.root\n"
     ]
    }
   ],
   "source": [
    "import math\n",
    "\n",
    "import awkward as ak\n",
    "import hist\n",
    "import matplotlib\n",
    "import matplotlib.pyplot as plt\n",
    "import numpy as np\n",
    "import uproot\n",
    "import vector\n",
    "\n",
    "print(\"uproot version\", uproot.__version__)\n",
    "print(\"awkward version\", ak.__version__)\n",
    "print(\"numpy version\", np.__version__)\n",
    "print(\"matplotlib version\", matplotlib.__version__)\n",
    "print(\"hist version\", hist.__version__)\n",
    "print(\"vector version\", vector.__version__)\n",
    "!ls -alh /pbs/throng/training/nantes-m2-rps-exp/data/*291263*"
   ]
  },
  {
   "cell_type": "code",
   "execution_count": 2,
   "id": "fb4b8699-5769-4724-8fbb-f7e1b923a482",
   "metadata": {},
   "outputs": [
    {
     "data": {
      "text/plain": [
       "['eventsTree;1']"
      ]
     },
     "execution_count": 2,
     "metadata": {},
     "output_type": "execute_result"
    }
   ],
   "source": [
    "file = uproot.open(\"/pbs/throng/training/nantes-m2-rps-exp/data/run291263.data.root\")\n",
    "file.keys()"
   ]
  },
  {
   "cell_type": "code",
   "execution_count": 72,
   "id": "54dfa7d8-867f-4e08-b3a7-2a4788bda75d",
   "metadata": {},
   "outputs": [
    {
     "data": {
      "text/plain": [
       "awkward.highlevel.Array"
      ]
     },
     "execution_count": 72,
     "metadata": {},
     "output_type": "execute_result"
    }
   ],
   "source": [
    "events = file[\"eventsTree\"]\n",
    "\n",
    "m = events.arrays(\n",
    "    [\"nMuons\", \"Muon_Px\", \"Muon_Py\", \"Muon_Pz\", \"Muon_Charge\", \"Muon_E\"],\n",
    "    how=\"zip\",\n",
    "    entry_stop=10000,\n",
    ")\n",
    "type(m)"
   ]
  },
  {
   "cell_type": "code",
   "execution_count": 83,
   "id": "9788fc13-dc02-4e1a-945e-7f404025296c",
   "metadata": {},
   "outputs": [
    {
     "name": "stdout",
     "output_type": "stream",
     "text": [
      "{nMuons: 2, Muon: [{Px: 0.576, ...}, ...]}\n",
      "{nMuons: 2, Muon: [{Px: -0.694, ...}, ...]}\n",
      "{nMuons: 2, Muon: [{Px: -0.901, ...}, ...]}\n",
      "{nMuons: 2, Muon: [{Px: -0.205, ...}, ...]}\n",
      "{nMuons: 2, Muon: [{Px: 0.513, ...}, ...]}\n",
      "{nMuons: 2, Muon: [{Px: -0.39, ...}, ...]}\n",
      "{nMuons: 2, Muon: [{Px: -3.8, ...}, ...]}\n",
      "{nMuons: 2, Muon: [{Px: -0.648, ...}, ...]}\n",
      "{nMuons: 2, Muon: [{Px: -0.284, ...}, ...]}\n",
      "{nMuons: 2, Muon: [{Px: -0.446, ...}, ...]}\n",
      "{nMuons: 2, Muon: [{Px: 0.424, ...}, ...]}\n",
      "{nMuons: 2, Muon: [{Px: -0.258, ...}, ...]}\n",
      "{nMuons: 2, Muon: [{Px: -0.273, ...}, ...]}\n",
      "{nMuons: 2, Muon: [{Px: -0.0748, ...}, ...]}\n",
      "{nMuons: 2, Muon: [{Px: -0.267, ...}, ...]}\n",
      "{nMuons: 2, Muon: [{Px: 0.254, ...}, ...]}\n",
      "{nMuons: 2, Muon: [{Px: 0.575, ...}, ...]}\n",
      "{nMuons: 2, Muon: [{Px: -0.0499, ...}, ...]}\n",
      "{nMuons: 2, Muon: [{Px: 0.317, ...}, ...]}\n",
      "{nMuons: 2, Muon: [{Px: 0.128, ...}, ...]}\n",
      "{nMuons: 2, Muon: [{Px: -0.857, ...}, ...]}\n",
      "{nMuons: 2, Muon: [{Px: -0.194, ...}, ...]}\n",
      "{nMuons: 2, Muon: [{Px: -0.226, ...}, ...]}\n",
      "{nMuons: 2, Muon: [{Px: -2.41, ...}, ...]}\n",
      "{nMuons: 2, Muon: [{Px: 0.204, ...}, ...]}\n",
      "{nMuons: 2, Muon: [{Px: 0.378, ...}, ...]}\n",
      "{nMuons: 2, Muon: [{Px: -0.037, ...}, ...]}\n",
      "{nMuons: 2, Muon: [{Px: -0.549, ...}, ...]}\n",
      "{nMuons: 2, Muon: [{Px: -0.22, ...}, ...]}\n",
      "{nMuons: 2, Muon: [{Px: -0.029, ...}, ...]}\n",
      "{nMuons: 2, Muon: [{Px: 0.0209, ...}, ...]}\n",
      "{nMuons: 2, Muon: [{Px: -8.48, ...}, ...]}\n",
      "{nMuons: 2, Muon: [{Px: -0.209, ...}, ...]}\n",
      "{nMuons: 2, Muon: [{Px: 0.0265, ...}, ...]}\n",
      "{nMuons: 2, Muon: [{Px: -0.466, ...}, ...]}\n",
      "{nMuons: 2, Muon: [{Px: -0.563, ...}, ...]}\n",
      "{nMuons: 2, Muon: [{Px: 0.133, ...}, ...]}\n",
      "{nMuons: 2, Muon: [{Px: -0.665, ...}, ...]}\n",
      "{nMuons: 2, Muon: [{Px: -0.411, ...}, ...]}\n",
      "{nMuons: 2, Muon: [{Px: -0.107, ...}, ...]}\n",
      "{nMuons: 2, Muon: [{Px: 0.369, ...}, ...]}\n",
      "{nMuons: 2, Muon: [{Px: -0.353, ...}, ...]}\n",
      "{nMuons: 2, Muon: [{Px: -0.456, ...}, ...]}\n",
      "{nMuons: 2, Muon: [{Px: 0.00379, ...}, ...]}\n",
      "{nMuons: 2, Muon: [{Px: 1.34, ...}, ...]}\n",
      "{nMuons: 2, Muon: [{Px: 1.06, ...}, ...]}\n",
      "{nMuons: 2, Muon: [{Px: -0.656, ...}, ...]}\n",
      "{nMuons: 2, Muon: [{Px: 0.786, ...}, ...]}\n",
      "48\n"
     ]
    }
   ],
   "source": [
    "m2 = m[m.nMuons == 2]\n",
    "m3 = []\n",
    "for i in range(len(m2)):\n",
    "    if float(m2[i].Muon.Charge[0]) * float(m2[i].Muon.Charge[1]) == -1:\n",
    "        m3.append(m2[i])\n",
    "\n",
    "for i in range(len(m3)):\n",
    "    print(m3[i])\n",
    "    a = m3[i].Muon.Charge[0]\n",
    "    b = m3[i].Muon.Charge[1]\n",
    "\n",
    "print(len(m3))"
   ]
  },
  {
   "cell_type": "code",
   "execution_count": null,
   "id": "71f52f33-335d-41f7-b730-9aef32fe5a5d",
   "metadata": {},
   "outputs": [],
   "source": []
  }
 ],
 "metadata": {
  "kernelspec": {
   "display_name": "Python 3 (ipykernel)",
   "language": "python",
   "name": "python3"
  },
  "language_info": {
   "codemirror_mode": {
    "name": "ipython",
    "version": 3
   },
   "file_extension": ".py",
   "mimetype": "text/x-python",
   "name": "python",
   "nbconvert_exporter": "python",
   "pygments_lexer": "ipython3",
   "version": "3.11.9"
  }
 },
 "nbformat": 4,
 "nbformat_minor": 5
}
